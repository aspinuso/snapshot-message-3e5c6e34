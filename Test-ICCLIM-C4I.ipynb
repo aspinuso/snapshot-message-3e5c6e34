{
 "cells": [
  {
   "cell_type": "markdown",
   "metadata": {},
   "source": [
    "## ICCLIM C4I Demo\n",
    "\n",
    "\n",
    "Example notebook that runs ICCLIM, which is pre-installed in the notebook.\n",
    "\n",
    "The example calculates the number of summer days (SU indicator) for the dataset chosen by the user on C4I\n",
    "\n",
    "\n",
    "### Preparation of the needed modules"
   ]
  },
  {
   "cell_type": "code",
   "execution_count": 5,
   "metadata": {},
   "outputs": [
    {
     "name": "stdout",
     "output_type": "stream",
     "text": [
      "python:  3.6.12 | packaged by conda-forge | (default, Dec  9 2020, 00:36:02) \n",
      "[GCC 9.3.0]\n",
      "numpy:  1.19.5\n",
      "netCDF4:  1.5.6\n",
      "matplotlib:  3.3.4\n"
     ]
    }
   ],
   "source": [
    "from icclim import icclim\n",
    "import numpy as np\n",
    "import netCDF4\n",
    "import matplotlib.pyplot as plt\n",
    "import matplotlib\n",
    "import sys\n",
    "import glob\n",
    "import os\n",
    "import datetime\n",
    "import cftime\n",
    "\n",
    "print(\"python: \",sys.version)\n",
    "print(\"numpy: \", np.__version__)\n",
    "print(\"netCDF4: \", netCDF4.__version__)\n",
    "print(\"matplotlib: \", matplotlib.__version__)"
   ]
  },
  {
   "cell_type": "markdown",
   "metadata": {},
   "source": [
    "### Specification of the parameters and period of interest"
   ]
  },
  {
   "cell_type": "code",
   "execution_count": 6,
   "metadata": {},
   "outputs": [
    {
     "name": "stderr",
     "output_type": "stream",
     "text": [
      "2021-02-23 08:34:36,329    ********************************************************************************************\n",
      "2021-02-23 08:34:36,330    *                                                                                          *\n",
      "2021-02-23 08:34:36,331    *          icclim                                                            V4.2.14       *\n",
      "2021-02-23 08:34:36,332    *                                                                                          *\n",
      "2021-02-23 08:34:36,333    *                                                                                          *\n",
      "2021-02-23 08:34:36,334    *          Tue Feb 23 08:34:36 2021 GMT                                                    *\n",
      "2021-02-23 08:34:36,335    *                                                                                          *\n",
      "2021-02-23 08:34:36,335    *          BEGIN EXECUTION                                                                 *\n",
      "2021-02-23 08:34:36,336    *                                                                                          *\n",
      "2021-02-23 08:34:36,337    ********************************************************************************************\n",
      "2021-02-23 08:34:37,491 Loading data: chunk 1/8 ...\n",
      "2021-02-23 08:36:36,250 Loading data: chunk 2/8 ...\n",
      "2021-02-23 08:37:59,303 Loading data: chunk 3/8 ...\n",
      "2021-02-23 08:39:30,538 Loading data: chunk 4/8 ...\n",
      "2021-02-23 08:39:43,145 Loading data: chunk 5/8 ...\n",
      "2021-02-23 08:40:23,509 Loading data: chunk 6/8 ...\n",
      "2021-02-23 08:41:17,342 Loading data: chunk 7/8 ...\n",
      "2021-02-23 08:41:40,368 Loading data: chunk 8/8 ...\n",
      "2021-02-23 08:41:49,482    ********************************************************************************************\n",
      "2021-02-23 08:41:49,482    *                                                                                          *\n",
      "2021-02-23 08:41:49,484    *          icclim                                                            V4.2.14       *\n",
      "2021-02-23 08:41:49,484    *                                                                                          *\n",
      "2021-02-23 08:41:49,485    *                                                                                          *\n",
      "2021-02-23 08:41:49,485    *          Tue Feb 23 08:41:49 2021 GMT                                                    *\n",
      "2021-02-23 08:41:49,486    *                                                                                          *\n",
      "2021-02-23 08:41:49,487    *          END EXECUTION                                                                   *\n",
      "2021-02-23 08:41:49,489    *                                                                                          *\n",
      "2021-02-23 08:41:49,489    *          CP SECS = 411.574                                                               *\n",
      "2021-02-23 08:41:49,490    *                                                                                          *\n",
      "2021-02-23 08:41:49,491    ********************************************************************************************\n"
     ]
    }
   ],
   "source": [
    "# studied period\n",
    "dt1 = datetime.datetime(2015,1,1)\n",
    "dt2 = datetime.datetime(2019,12,31)\n",
    "\n",
    "out_f = 'su_icclim.nc'\n",
    "filenames = glob.glob('./data/latest/tasmax_day*.nc')\n",
    "\n",
    "icclim.indice(indice_name='SU', in_files=filenames, var_name='tasmax', slice_mode='JJA', time_range=[dt1, dt2], transfer_limit_Mbytes=200, out_file=out_f)\n",
    "\n",
    "matplotlib.use('agg')\n",
    "\n",
    "nc = netCDF4.Dataset(out_f)\n",
    "\n",
    "time = nc.variables['time']\n",
    "var = nc.variables['SU']\n",
    "\n",
    "time = cftime.num2date(time[:], time.units, time.calendar)\n",
    "year_list = np.array([t.year for t in time])"
   ]
  },
  {
   "cell_type": "markdown",
   "metadata": {},
   "source": [
    "### Calculate spatial average"
   ]
  },
  {
   "cell_type": "code",
   "execution_count": null,
   "metadata": {},
   "outputs": [],
   "source": [
    "var = np.reshape(var, (var.shape[0], -1))\n",
    "result = np.mean(var, axis=1)\n",
    "\n",
    "print(result)"
   ]
  },
  {
   "cell_type": "markdown",
   "metadata": {},
   "source": [
    "### Visualise the results"
   ]
  },
  {
   "cell_type": "code",
   "execution_count": null,
   "metadata": {},
   "outputs": [],
   "source": [
    "\n",
    "plt.figure()\n",
    "\n",
    "plt.plot(year_list, result, label='SU')\n",
    "plt.legend()\n",
    "plt.xlabel('Year')\n",
    "plt.ylabel('Number')\n",
    "plt.grid()\n",
    "\n",
    "name_fig = \"su_icclim.png\"\n",
    "plt.savefig(\"./\"+name_fig)\n",
    "from IPython.display import Image\n",
    "Image(filename=\"./su_icclim.png\") "
   ]
  },
  {
   "cell_type": "markdown",
   "metadata": {},
   "source": []
  }
 ],
 "metadata": {
  "kernelspec": {
   "display_name": "Python 3",
   "language": "python",
   "name": "python3"
  },
  "language_info": {
   "codemirror_mode": {
    "name": "ipython",
    "version": 3
   },
   "file_extension": ".py",
   "mimetype": "text/x-python",
   "name": "python",
   "nbconvert_exporter": "python",
   "pygments_lexer": "ipython3",
   "version": "3.6.12"
  }
 },
 "nbformat": 4,
 "nbformat_minor": 4
}
